{
 "cells": [
  {
   "cell_type": "code",
   "execution_count": null,
   "metadata": {},
   "outputs": [],
   "source": [
    "from round import lc\n",
    "import matplotlib.pyplot as plt\n",
    "import matplotlib.gridspec as gridspec\n",
    "import sys\n",
    "import os\n",
    "import numpy as np\n",
    "import matplotlib.pyplot as pl"
   ]
  },
  {
   "cell_type": "code",
   "execution_count": null,
   "metadata": {},
   "outputs": [],
   "source": [
    "# point to your own light curves\n",
    "folder = '/Users/tgordon/research/tess_adap/lcs'\n",
    "files = os.listdir(folder)\n",
    "fitsfile = folder + \"/\" + files[0]\n",
    "light_curve = lc.LightCurve.TESS_adap(fitsfile)"
   ]
  },
  {
   "cell_type": "code",
   "execution_count": null,
   "metadata": {},
   "outputs": [],
   "source": [
    "# plot the light curve before any detrending or clipping \n",
    "fig = pl.figure()\n",
    "light_curve.plot_raw(fig.gca())"
   ]
  },
  {
   "cell_type": "code",
   "execution_count": null,
   "metadata": {},
   "outputs": [],
   "source": [
    "# third order polynomial subtracted, outliers clipped\n",
    "light_curve.normalize()\n",
    "fig = pl.figure()\n",
    "light_curve.plot(fig.gca())"
   ]
  },
  {
   "cell_type": "code",
   "execution_count": null,
   "metadata": {},
   "outputs": [],
   "source": [
    "# computes autocorrelation, optimizes GP, and runs mcmc \n",
    "light_curve.compute(mcmc=True, mcmc_draws=500, tune=500, \n",
    "                        target_accept=0.9, prior_sig=3.0, \n",
    "                        with_SHOTerm=False, cores=2)"
   ]
  },
  {
   "cell_type": "code",
   "execution_count": null,
   "metadata": {},
   "outputs": [],
   "source": [
    "# corner plot of the mcmc along with a summary of the output \n",
    "light_curve.plot_corner(smooth=True, \n",
    "                        truths=light_curve.mcmc_summary[\"mean\"].values, \n",
    "                        truth_color=\"#f55649\");"
   ]
  },
  {
   "cell_type": "code",
   "execution_count": null,
   "metadata": {},
   "outputs": [],
   "source": [
    "# summary of the mcmc in a pandas dataframe\n",
    "light_curve.mcmc_summary"
   ]
  },
  {
   "cell_type": "code",
   "execution_count": null,
   "metadata": {},
   "outputs": [],
   "source": []
  }
 ],
 "metadata": {
  "kernelspec": {
   "display_name": "Python 3",
   "language": "python",
   "name": "python3"
  },
  "language_info": {
   "codemirror_mode": {
    "name": "ipython",
    "version": 3
   },
   "file_extension": ".py",
   "mimetype": "text/x-python",
   "name": "python",
   "nbconvert_exporter": "python",
   "pygments_lexer": "ipython3",
   "version": "3.7.6"
  }
 },
 "nbformat": 4,
 "nbformat_minor": 2
}

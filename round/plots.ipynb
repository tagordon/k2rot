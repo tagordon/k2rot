{
 "cells": [
  {
   "cell_type": "code",
   "execution_count": 1,
   "metadata": {},
   "outputs": [],
   "source": [
    "import numpy as np\n",
    "import matplotlib.pyplot as pl\n",
    "import pandas as pd\n",
    "%matplotlib inline"
   ]
  },
  {
   "cell_type": "code",
   "execution_count": 2,
   "metadata": {},
   "outputs": [
    {
     "data": {
      "text/html": [
       "<div>\n",
       "<style scoped>\n",
       "    .dataframe tbody tr th:only-of-type {\n",
       "        vertical-align: middle;\n",
       "    }\n",
       "\n",
       "    .dataframe tbody tr th {\n",
       "        vertical-align: top;\n",
       "    }\n",
       "\n",
       "    .dataframe thead th {\n",
       "        text-align: right;\n",
       "    }\n",
       "</style>\n",
       "<table border=\"1\" class=\"dataframe\">\n",
       "  <thead>\n",
       "    <tr style=\"text-align: right;\">\n",
       "      <th></th>\n",
       "      <th>EPIC number</th>\n",
       "      <th>variable name</th>\n",
       "      <th>mean</th>\n",
       "      <th>sd</th>\n",
       "      <th>mc_error</th>\n",
       "      <th>hpd_2.5</th>\n",
       "      <th>hpd_97.5</th>\n",
       "      <th>n_eff</th>\n",
       "      <th>Rhat</th>\n",
       "    </tr>\n",
       "  </thead>\n",
       "  <tbody>\n",
       "    <tr>\n",
       "      <td>0</td>\n",
       "      <td>EPIC 202060937</td>\n",
       "      <td>mix</td>\n",
       "      <td>0.005340</td>\n",
       "      <td>0.006776</td>\n",
       "      <td>0.000133</td>\n",
       "      <td>6.799343</td>\n",
       "      <td>0.016384</td>\n",
       "      <td>2376.596</td>\n",
       "      <td>1.003890</td>\n",
       "    </tr>\n",
       "    <tr>\n",
       "      <td>1</td>\n",
       "      <td>EPIC 202060937</td>\n",
       "      <td>logdeltaQ</td>\n",
       "      <td>-1.433720</td>\n",
       "      <td>4.177509</td>\n",
       "      <td>0.085793</td>\n",
       "      <td>-9.628500</td>\n",
       "      <td>5.910283</td>\n",
       "      <td>2114.629</td>\n",
       "      <td>1.009793</td>\n",
       "    </tr>\n",
       "    <tr>\n",
       "      <td>2</td>\n",
       "      <td>EPIC 202060937</td>\n",
       "      <td>logQ0</td>\n",
       "      <td>5.499966</td>\n",
       "      <td>1.004287</td>\n",
       "      <td>0.014850</td>\n",
       "      <td>3.585692</td>\n",
       "      <td>7.498930</td>\n",
       "      <td>4986.163</td>\n",
       "      <td>1.000805</td>\n",
       "    </tr>\n",
       "    <tr>\n",
       "      <td>3</td>\n",
       "      <td>EPIC 202060937</td>\n",
       "      <td>logperiod</td>\n",
       "      <td>1.469570</td>\n",
       "      <td>0.004162</td>\n",
       "      <td>9.788975</td>\n",
       "      <td>1.463063</td>\n",
       "      <td>1.478013</td>\n",
       "      <td>1882.440</td>\n",
       "      <td>1.006517</td>\n",
       "    </tr>\n",
       "    <tr>\n",
       "      <td>4</td>\n",
       "      <td>EPIC 202060937</td>\n",
       "      <td>logamp</td>\n",
       "      <td>-10.206100</td>\n",
       "      <td>1.027229</td>\n",
       "      <td>0.017052</td>\n",
       "      <td>-12.119200</td>\n",
       "      <td>-8.116290</td>\n",
       "      <td>3796.204</td>\n",
       "      <td>1.001986</td>\n",
       "    </tr>\n",
       "    <tr>\n",
       "      <td>...</td>\n",
       "      <td>...</td>\n",
       "      <td>...</td>\n",
       "      <td>...</td>\n",
       "      <td>...</td>\n",
       "      <td>...</td>\n",
       "      <td>...</td>\n",
       "      <td>...</td>\n",
       "      <td>...</td>\n",
       "      <td>...</td>\n",
       "    </tr>\n",
       "    <tr>\n",
       "      <td>2921</td>\n",
       "      <td>EPIC 202091855</td>\n",
       "      <td>logQ0</td>\n",
       "      <td>-6.362820</td>\n",
       "      <td>1.036004</td>\n",
       "      <td>0.015982</td>\n",
       "      <td>-8.605060</td>\n",
       "      <td>-4.709370</td>\n",
       "      <td>3840.536</td>\n",
       "      <td>1.001840</td>\n",
       "    </tr>\n",
       "    <tr>\n",
       "      <td>2922</td>\n",
       "      <td>EPIC 202091855</td>\n",
       "      <td>logperiod</td>\n",
       "      <td>2.699523</td>\n",
       "      <td>0.476666</td>\n",
       "      <td>0.007594</td>\n",
       "      <td>1.943101</td>\n",
       "      <td>3.731652</td>\n",
       "      <td>3524.848</td>\n",
       "      <td>1.002463</td>\n",
       "    </tr>\n",
       "    <tr>\n",
       "      <td>2923</td>\n",
       "      <td>EPIC 202091855</td>\n",
       "      <td>logamp</td>\n",
       "      <td>-15.137500</td>\n",
       "      <td>0.345556</td>\n",
       "      <td>0.003406</td>\n",
       "      <td>-15.806400</td>\n",
       "      <td>-14.455600</td>\n",
       "      <td>9285.176</td>\n",
       "      <td>0.999994</td>\n",
       "    </tr>\n",
       "    <tr>\n",
       "      <td>2924</td>\n",
       "      <td>EPIC 202091855</td>\n",
       "      <td>logs2</td>\n",
       "      <td>-22.252800</td>\n",
       "      <td>1.381306</td>\n",
       "      <td>0.016128</td>\n",
       "      <td>-25.117800</td>\n",
       "      <td>-19.977600</td>\n",
       "      <td>7244.717</td>\n",
       "      <td>1.000157</td>\n",
       "    </tr>\n",
       "    <tr>\n",
       "      <td>2925</td>\n",
       "      <td>EPIC 202091855</td>\n",
       "      <td>acfpeak</td>\n",
       "      <td>13.423480</td>\n",
       "      <td>NaN</td>\n",
       "      <td>NaN</td>\n",
       "      <td>NaN</td>\n",
       "      <td>NaN</td>\n",
       "      <td>NaN</td>\n",
       "      <td>NaN</td>\n",
       "    </tr>\n",
       "  </tbody>\n",
       "</table>\n",
       "<p>2926 rows × 9 columns</p>\n",
       "</div>"
      ],
      "text/plain": [
       "         EPIC number  variable name       mean        sd  mc_error    hpd_2.5  \\\n",
       "0     EPIC 202060937  mix             0.005340  0.006776  0.000133   6.799343   \n",
       "1     EPIC 202060937  logdeltaQ      -1.433720  4.177509  0.085793  -9.628500   \n",
       "2     EPIC 202060937  logQ0           5.499966  1.004287  0.014850   3.585692   \n",
       "3     EPIC 202060937  logperiod       1.469570  0.004162  9.788975   1.463063   \n",
       "4     EPIC 202060937  logamp        -10.206100  1.027229  0.017052 -12.119200   \n",
       "...              ...            ...        ...       ...       ...        ...   \n",
       "2921  EPIC 202091855  logQ0          -6.362820  1.036004  0.015982  -8.605060   \n",
       "2922  EPIC 202091855  logperiod       2.699523  0.476666  0.007594   1.943101   \n",
       "2923  EPIC 202091855  logamp        -15.137500  0.345556  0.003406 -15.806400   \n",
       "2924  EPIC 202091855  logs2         -22.252800  1.381306  0.016128 -25.117800   \n",
       "2925  EPIC 202091855  acfpeak        13.423480       NaN       NaN        NaN   \n",
       "\n",
       "       hpd_97.5     n_eff      Rhat  \n",
       "0      0.016384  2376.596  1.003890  \n",
       "1      5.910283  2114.629  1.009793  \n",
       "2      7.498930  4986.163  1.000805  \n",
       "3      1.478013  1882.440  1.006517  \n",
       "4     -8.116290  3796.204  1.001986  \n",
       "...         ...       ...       ...  \n",
       "2921  -4.709370  3840.536  1.001840  \n",
       "2922   3.731652  3524.848  1.002463  \n",
       "2923 -14.455600  9285.176  0.999994  \n",
       "2924 -19.977600  7244.717  1.000157  \n",
       "2925        NaN       NaN       NaN  \n",
       "\n",
       "[2926 rows x 9 columns]"
      ]
     },
     "execution_count": 2,
     "metadata": {},
     "output_type": "execute_result"
    }
   ],
   "source": [
    "df = pd.read_table(\"../output/out.dat\", sep=\"\\t\", header=2)\n",
    "df = df.rename(columns = lambda x: x.strip())\n",
    "df"
   ]
  },
  {
   "cell_type": "code",
   "execution_count": 3,
   "metadata": {},
   "outputs": [],
   "source": [
    "acfperiod = df[df[\"variable name\"].str.contains(\"acfpeak\")]['mean']\n",
    "gpperiod = np.exp(df[df[\"variable name\"].str.contains(\"logperiod\")]['mean'])\n",
    "good_gpperiod = gpperiod[(np.abs(np.array(acfperiod)-np.array(gpperiod)) < 2) & (np.array(gpperiod) > 2)]\n",
    "good_acfperiod = acfperiod[(np.abs(np.array(acfperiod)-np.array(gpperiod)) < 2)  & (np.array(gpperiod) > 2)]"
   ]
  },
  {
   "cell_type": "code",
   "execution_count": 10,
   "metadata": {},
   "outputs": [
    {
     "data": {
      "text/plain": [
       "(array([13.,  3.,  5.,  4.,  4.,  8.,  8.,  4.,  3.,  2.]),\n",
       " array([ 2.18627023,  4.42829656,  6.6703229 ,  8.91234923, 11.15437557,\n",
       "        13.3964019 , 15.63842823, 17.88045457, 20.1224809 , 22.36450724,\n",
       "        24.60653357]),\n",
       " <a list of 10 Patch objects>)"
      ]
     },
     "execution_count": 10,
     "metadata": {},
     "output_type": "execute_result"
    },
    {
     "data": {
      "image/png": "[encoded data removed]",
      "text/plain": [
       "<Figure size 432x288 with 1 Axes>"
      ]
     },
     "metadata": {},
     "output_type": "display_data"
    }
   ],
   "source": [
    "pl.hist(list(good_gpperiod[good_gpperiod < 35]))"
   ]
  },
  {
   "cell_type": "code",
   "execution_count": 11,
   "metadata": {},
   "outputs": [
    {
     "data": {
      "text/plain": [
       "(array([12.,  4.,  6.,  2.,  8.,  6.,  7.,  3.,  5.,  1.]),\n",
       " array([ 2.084012 ,  4.3978788,  6.7117456,  9.0256124, 11.3394792,\n",
       "        13.653346 , 15.9672128, 18.2810796, 20.5949464, 22.9088132,\n",
       "        25.22268  ]),\n",
       " <a list of 10 Patch objects>)"
      ]
     },
     "execution_count": 11,
     "metadata": {},
     "output_type": "execute_result"
    },
    {
     "data": {
      "image/png": "[encoded data removed]",
      "text/plain": [
       "<Figure size 432x288 with 1 Axes>"
      ]
     },
     "metadata": {},
     "output_type": "display_data"
    }
   ],
   "source": [
    "pl.hist(list(good_acfperiod[good_acfperiod < 35]))"
   ]
  },
  {
   "cell_type": "code",
   "execution_count": 12,
   "metadata": {},
   "outputs": [],
   "source": [
    "from astroquery.vizier import Vizier\n",
    "catalog_list = Vizier.find_catalogs('EPIC')\n",
    "Vizier.ROW_LIMIT = 1000\n",
    "catalog = Vizier.get_catalogs(list(catalog_list.keys())[0])"
   ]
  },
  {
   "cell_type": "code",
   "execution_count": 13,
   "metadata": {},
   "outputs": [
    {
     "data": {
      "text/html": [
       "<i>Table masked=True length=1000</i>\n",
       "<table id=\"table4771917552\" class=\"table-striped table-bordered table-condensed\">\n",
       "<thead><tr><th>ID</th><th>RAJ2000</th><th>DEJ2000</th><th>UCAC4</th><th>_2MASS</th><th>SDSS</th><th>OType</th><th>Kpflag</th><th>pmRA</th><th>e_pmRA</th><th>pmDEC</th><th>e_pmDEC</th><th>Jmag</th><th>e_Jmag</th><th>Hmag</th><th>e_Hmag</th><th>Ksmag</th><th>e_Ksmag</th><th>Kpmag</th><th>NOMAD1</th><th>f_2MASS</th><th>Prox</th><th>Kflag</th></tr></thead>\n",
       "<thead><tr><th></th><th>deg</th><th>deg</th><th></th><th></th><th></th><th></th><th></th><th>mas / yr</th><th>mas / yr</th><th>mas / yr</th><th>mas / yr</th><th>mag</th><th>mag</th><th>mag</th><th>mag</th><th>mag</th><th>mag</th><th>mag</th><th></th><th></th><th>arcsec</th><th></th></tr></thead>\n",
       "<thead><tr><th>int32</th><th>float64</th><th>float64</th><th>bytes10</th><th>bytes17</th><th>bytes20</th><th>bytes8</th><th>bytes3</th><th>float64</th><th>float64</th><th>float64</th><th>float64</th><th>float32</th><th>float32</th><th>float32</th><th>float32</th><th>float32</th><th>float32</th><th>float32</th><th>bytes12</th><th>bytes19</th><th>float64</th><th>uint8</th></tr></thead>\n",
       "<tr><td>210298744</td><td>55.067843</td><td>10.608890</td><td></td><td>03401628+1036320</td><td></td><td>STAR</td><td>JHK</td><td>--</td><td>--</td><td>--</td><td>--</td><td>16.031</td><td>0.103</td><td>15.576</td><td>0.168</td><td>15.045</td><td>0.126</td><td>18.571</td><td></td><td></td><td>--</td><td>0</td></tr>\n",
       "<tr><td>210299795</td><td>55.014719</td><td>10.650389</td><td></td><td>03400353+1039014</td><td></td><td>STAR</td><td>JHK</td><td>--</td><td>--</td><td>--</td><td>--</td><td>15.472</td><td>0.051</td><td>14.717</td><td>0.069</td><td>14.493</td><td>0.077</td><td>17.772</td><td></td><td></td><td>--</td><td>0</td></tr>\n",
       "<tr><td>210299819</td><td>54.971342</td><td>10.651425</td><td></td><td>03395312+1039051</td><td></td><td>STAR</td><td>JHK</td><td>--</td><td>--</td><td>--</td><td>--</td><td>15.708</td><td>0.071</td><td>15.145</td><td>0.090</td><td>14.789</td><td>0.094</td><td>18.137</td><td></td><td></td><td>--</td><td>0</td></tr>\n",
       "<tr><td>210300805</td><td>54.976098</td><td>10.688529</td><td>504-005574</td><td>03395427+1041184</td><td></td><td>STAR</td><td>JHK</td><td>5.800</td><td>5.000</td><td>-10.000</td><td>5.300</td><td>14.416</td><td>0.034</td><td>13.994</td><td>0.044</td><td>13.731</td><td>0.052</td><td>16.110</td><td></td><td></td><td>--</td><td>0</td></tr>\n",
       "<tr><td>210300557</td><td>54.944639</td><td>10.679019</td><td></td><td>03394671+1040444</td><td></td><td>STAR</td><td>J</td><td>--</td><td>--</td><td>--</td><td>--</td><td>16.750</td><td>0.150</td><td>--</td><td>--</td><td>--</td><td>--</td><td>18.308</td><td></td><td></td><td>--</td><td>0</td></tr>\n",
       "<tr><td>210300598</td><td>54.947157</td><td>10.680481</td><td></td><td>03394731+1040497</td><td></td><td>STAR</td><td>J</td><td>--</td><td>--</td><td>--</td><td>--</td><td>15.698</td><td>0.063</td><td>15.082</td><td>0.091</td><td>14.626</td><td>0.081</td><td>17.172</td><td></td><td></td><td>--</td><td>0</td></tr>\n",
       "<tr><td>210300653</td><td>54.944717</td><td>10.682916</td><td></td><td>03394673+1040584</td><td></td><td>STAR</td><td>JHK</td><td>--</td><td>--</td><td>--</td><td>--</td><td>16.406</td><td>0.115</td><td>15.588</td><td>0.130</td><td>15.607</td><td>0.174</td><td>18.460</td><td></td><td></td><td>--</td><td>0</td></tr>\n",
       "<tr><td>210300883</td><td>54.956720</td><td>10.691447</td><td>504-005571</td><td>03394961+1041291</td><td></td><td>STAR</td><td>gri</td><td>1.100</td><td>4.800</td><td>0.100</td><td>7.800</td><td>12.650</td><td>0.023</td><td>12.261</td><td>0.028</td><td>12.170</td><td>0.028</td><td>14.249</td><td></td><td></td><td>--</td><td>0</td></tr>\n",
       "<tr><td>210301197</td><td>54.960427</td><td>10.702638</td><td></td><td>03395050+1042094</td><td></td><td>STAR</td><td>JHK</td><td>--</td><td>--</td><td>--</td><td>--</td><td>14.714</td><td>0.039</td><td>14.182</td><td>0.047</td><td>14.071</td><td>0.061</td><td>16.299</td><td></td><td></td><td>--</td><td>0</td></tr>\n",
       "<tr><td>...</td><td>...</td><td>...</td><td>...</td><td>...</td><td>...</td><td>...</td><td>...</td><td>...</td><td>...</td><td>...</td><td>...</td><td>...</td><td>...</td><td>...</td><td>...</td><td>...</td><td>...</td><td>...</td><td>...</td><td>...</td><td>...</td><td>...</td></tr>\n",
       "<tr><td>210342917</td><td>53.169331</td><td>12.021419</td><td></td><td>03324063+1201171</td><td></td><td>STAR</td><td>JHK</td><td>--</td><td>--</td><td>--</td><td>--</td><td>14.989</td><td>0.040</td><td>14.155</td><td>0.038</td><td>13.889</td><td>0.063</td><td>17.615</td><td></td><td></td><td>--</td><td>0</td></tr>\n",
       "<tr><td>210343414</td><td>53.101572</td><td>12.034012</td><td>511-005517</td><td>03322437+1202025</td><td></td><td>STAR</td><td>gri</td><td>-9.000</td><td>2.400</td><td>-26.200</td><td>2.600</td><td>13.013</td><td>0.023</td><td>12.342</td><td>0.020</td><td>12.094</td><td>0.023</td><td>15.296</td><td></td><td></td><td>--</td><td>0</td></tr>\n",
       "<tr><td>210344451</td><td>53.212738</td><td>12.064785</td><td></td><td>03325105+1203532</td><td></td><td>STAR</td><td>J</td><td>--</td><td>--</td><td>--</td><td>--</td><td>16.316</td><td>0.093</td><td>15.585</td><td>0.105</td><td>15.247</td><td>0.192</td><td>17.837</td><td></td><td></td><td>--</td><td>0</td></tr>\n",
       "<tr><td>210344578</td><td>53.166166</td><td>12.068262</td><td></td><td>03323987+1204057</td><td></td><td>STAR</td><td>JHK</td><td>--</td><td>--</td><td>--</td><td>--</td><td>13.564</td><td>0.023</td><td>12.928</td><td>0.024</td><td>12.674</td><td>0.030</td><td>15.914</td><td></td><td></td><td>--</td><td>0</td></tr>\n",
       "<tr><td>210345163</td><td>53.181934</td><td>12.084587</td><td>511-005523</td><td>03324365+1205045</td><td></td><td>STAR</td><td>BV</td><td>23.700</td><td>2.800</td><td>-2.600</td><td>2.800</td><td>14.367</td><td>0.030</td><td>13.932</td><td>0.037</td><td>13.818</td><td>0.061</td><td>16.122</td><td></td><td></td><td>--</td><td>0</td></tr>\n",
       "<tr><td>210344734</td><td>53.162833</td><td>12.072702</td><td></td><td>03323907+1204217</td><td></td><td>STAR</td><td>JHK</td><td>--</td><td>--</td><td>--</td><td>--</td><td>14.976</td><td>0.039</td><td>14.316</td><td>0.041</td><td>14.025</td><td>0.065</td><td>17.473</td><td></td><td></td><td>--</td><td>0</td></tr>\n",
       "<tr><td>210343400</td><td>53.258862</td><td>12.033735</td><td></td><td>03330212+1202014</td><td></td><td>STAR</td><td>J</td><td>--</td><td>--</td><td>--</td><td>--</td><td>16.629</td><td>0.126</td><td>16.114</td><td>0.159</td><td>--</td><td>--</td><td>18.181</td><td></td><td></td><td>--</td><td>0</td></tr>\n",
       "<tr><td>210343884</td><td>53.280915</td><td>12.047115</td><td></td><td>03330741+1202496</td><td></td><td>STAR</td><td>JHK</td><td>--</td><td>--</td><td>--</td><td>--</td><td>16.008</td><td>0.079</td><td>15.253</td><td>0.080</td><td>14.861</td><td>0.137</td><td>18.779</td><td></td><td></td><td>--</td><td>0</td></tr>\n",
       "<tr><td>210344696</td><td>53.279722</td><td>12.071477</td><td></td><td>03330713+1204173</td><td></td><td>STAR</td><td>J</td><td>--</td><td>--</td><td>--</td><td>--</td><td>16.984</td><td>0.177</td><td>15.815</td><td>0.132</td><td>--</td><td>--</td><td>18.561</td><td></td><td></td><td>--</td><td>0</td></tr>\n",
       "<tr><td>210344286</td><td>53.252398</td><td>12.059242</td><td></td><td>03330057+1203332</td><td></td><td>STAR</td><td>JHK</td><td>--</td><td>--</td><td>--</td><td>--</td><td>14.736</td><td>0.034</td><td>13.925</td><td>0.032</td><td>13.726</td><td>0.052</td><td>17.113</td><td></td><td></td><td>--</td><td>0</td></tr>\n",
       "</table>"
      ],
      "text/plain": [
       "<Table masked=True length=1000>\n",
       "    ID     RAJ2000    DEJ2000     UCAC4    ...  NOMAD1 f_2MASS   Prox  Kflag\n",
       "             deg        deg                ...                  arcsec      \n",
       "  int32    float64    float64    bytes10   ... bytes12 bytes19 float64 uint8\n",
       "--------- ---------- ---------- ---------- ... ------- ------- ------- -----\n",
       "210298744  55.067843  10.608890            ...                      --     0\n",
       "210299795  55.014719  10.650389            ...                      --     0\n",
       "210299819  54.971342  10.651425            ...                      --     0\n",
       "210300805  54.976098  10.688529 504-005574 ...                      --     0\n",
       "210300557  54.944639  10.679019            ...                      --     0\n",
       "210300598  54.947157  10.680481            ...                      --     0\n",
       "210300653  54.944717  10.682916            ...                      --     0\n",
       "210300883  54.956720  10.691447 504-005571 ...                      --     0\n",
       "210301197  54.960427  10.702638            ...                      --     0\n",
       "      ...        ...        ...        ... ...     ...     ...     ...   ...\n",
       "210342917  53.169331  12.021419            ...                      --     0\n",
       "210343414  53.101572  12.034012 511-005517 ...                      --     0\n",
       "210344451  53.212738  12.064785            ...                      --     0\n",
       "210344578  53.166166  12.068262            ...                      --     0\n",
       "210345163  53.181934  12.084587 511-005523 ...                      --     0\n",
       "210344734  53.162833  12.072702            ...                      --     0\n",
       "210343400  53.258862  12.033735            ...                      --     0\n",
       "210343884  53.280915  12.047115            ...                      --     0\n",
       "210344696  53.279722  12.071477            ...                      --     0\n",
       "210344286  53.252398  12.059242            ...                      --     0"
      ]
     },
     "execution_count": 13,
     "metadata": {},
     "output_type": "execute_result"
    }
   ],
   "source": [
    "catalog[0]"
   ]
  },
  {
   "cell_type": "code",
   "execution_count": null,
   "metadata": {},
   "outputs": [],
   "source": [
    "Vizier.ROW_LIMIT = 100\n",
    "catalog = Vizier.get_catalogs(list(catalog_list.keys())[0])\n",
    "catalog[0]"
   ]
  },
  {
   "cell_type": "code",
   "execution_count": null,
   "metadata": {},
   "outputs": [],
   "source": []
  },
  {
   "cell_type": "code",
   "execution_count": null,
   "metadata": {},
   "outputs": [],
   "source": []
  }
 ],
 "metadata": {
  "kernelspec": {
   "display_name": "Python 3",
   "language": "python",
   "name": "python3"
  },
  "language_info": {
   "codemirror_mode": {
    "name": "ipython",
    "version": 3
   },
   "file_extension": ".py",
   "mimetype": "text/x-python",
   "name": "python",
   "nbconvert_exporter": "python",
   "pygments_lexer": "ipython3",
   "version": "3.7.0"
  }
 },
 "nbformat": 4,
 "nbformat_minor": 2
}

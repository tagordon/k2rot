{
 "cells": [
  {
   "cell_type": "markdown",
   "metadata": {},
   "source": [
    "# Add +/- 1 standard deviation to the map_soln prediction plot"
   ]
  },
  {
   "cell_type": "code",
   "execution_count": 1,
   "metadata": {},
   "outputs": [],
   "source": [
    "import round.lc as lc\n",
    "import matplotlib.pyplot as plt\n",
    "%matplotlib inline"
   ]
  },
  {
   "cell_type": "code",
   "execution_count": 2,
   "metadata": {},
   "outputs": [
    {
     "data": {
      "text/plain": [
       "[<matplotlib.lines.Line2D at 0x11e78a208>]"
      ]
     },
     "execution_count": 2,
     "metadata": {},
     "output_type": "execute_result"
    },
    {
     "data": {
      "image/png": "[encoded data removed]",
      "text/plain": [
       "<Figure size 432x288 with 1 Axes>"
      ]
     },
     "metadata": {},
     "output_type": "display_data"
    }
   ],
   "source": [
    "light_curve = lc.LightCurve.everest(\"https://archive.stsci.edu/hlsps/everest/v2/c18/211900000/72086/hlsp_everest_k2_llc_211972086-c18_kepler_v2.0_lc.fits\")\n",
    "plt.plot(light_curve.t, light_curve.raw_flux, '.')"
   ]
  },
  {
   "cell_type": "code",
   "execution_count": null,
   "metadata": {},
   "outputs": [],
   "source": [
    "%time light_curve.compute(mcmc=True, mcmc_draws=500, tune=500, target_accept=0.9, prior_sig=3.0, with_SHOTerm=False, cores=2, maxper=20)"
   ]
  },
  {
   "cell_type": "code",
   "execution_count": null,
   "metadata": {},
   "outputs": [],
   "source": [
    "import matplotlib.gridspec as gridspec\n",
    "fig = plt.figure(figsize=(20, 10))\n",
    "really_outer = gridspec.GridSpec(1, 1, wspace=0.2, hspace=0.2)\n",
    "outer = gridspec.GridSpecFromSubplotSpec(1, 2, subplot_spec=really_outer[0], wspace=0.2, hspace=0.2)\n",
    "inner = gridspec.GridSpecFromSubplotSpec(2, 1, subplot_spec=outer[0], wspace=0.1, hspace=0.3)\n",
    "\n",
    "# raw light curve and polynomial fit \n",
    "ax = plt.Subplot(fig, inner[0])\n",
    "light_curve.plot_raw(ax, 'k.', label=\"everest flux\")\n",
    "light_curve.plot_trend(ax, linewidth=3, color=\"#f55649\", label=\"third order polynomial fit\")\n",
    "ax.plot(light_curve.raw_t[light_curve.masked], light_curve.raw_flux[light_curve.masked], 'r.', label=\"masked outliers\")\n",
    "ax.set_title(\"Raw Everest Light Curve\", fontsize=20)\n",
    "ax.set_xlabel(\"Time (BJD - 2454833)\", fontsize=15)\n",
    "ax.set_ylabel(\"Flux\", fontsize=15)\n",
    "ax.legend()\n",
    "fig.add_subplot(ax)\n",
    "\n",
    "# autocorrelation\n",
    "mcmc_period = np.exp(light_curve.mcmc_summary[\"mean\"][\"logperiod\"])\n",
    "ax = plt.Subplot(fig, inner[1])\n",
    "light_curve.plot_autocor(ax, \"k\", linewidth=3, maxper=20)\n",
    "ax.axvline(light_curve.map_soln[\"period\"], color=\"#f55649\", label=\"maximum likelihood period\", linewidth=3, linestyle=\"--\")\n",
    "ax.axvline(mcmc_period, color=\"#53bff5\", label=\"mean period from MCMC\", linewidth=3, linestyle=\"--\")\n",
    "ax.set_title(\"Autocorrelation\", fontsize=20)\n",
    "ax.set_xlabel(\"Lag (BJD)\", fontsize=15)\n",
    "ax.set_ylabel(\"ACF\", fontsize=15)\n",
    "ax.legend()\n",
    "fig.add_subplot(ax)\n",
    "\n",
    "inner = gridspec.GridSpecFromSubplotSpec(2, 1, subplot_spec=outer[1], wspace=0.1, hspace=0, height_ratios=[3, 1])\n",
    "\n",
    "# GP prediction\n",
    "ax = plt.Subplot(fig, inner[0])\n",
    "light_curve.plot(ax, 'k.', label=\"normalized everest flux\")\n",
    "light_curve.plot_map_soln(ax, t=np.linspace(light_curve.t[0], light_curve.t[-1], 1000), linewidth=3, color=\"#f55649\", label=\"GP prediction\")\n",
    "ax.set_title(\"Maximum-likelihood GP Prediction\", fontsize=20)\n",
    "ax.set_ylabel(\"Normalized Flux\", fontsize=15)\n",
    "fig.add_subplot(ax)\n",
    "\n",
    "# residuals\n",
    "ax = plt.Subplot(fig, inner[1])\n",
    "#ax.plot(light_curve.t, light_curve.flux - light_curve.map_soln[\"mu\"], 'k.')\n",
    "light_curve.plot_residuals(ax, 'k.')\n",
    "ax.set_ylabel(\"Residuals\", fontsize=15)\n",
    "ax.set_xlabel(\"Time (BJD - 2454833)\", fontsize=15)\n",
    "fig.add_subplot(ax)\n",
    "\n",
    "fig.savefig(\"/Users/tgordon/Desktop/diagnostic_plot.png\", dpi=200)"
   ]
  },
  {
   "cell_type": "code",
   "execution_count": null,
   "metadata": {},
   "outputs": [],
   "source": [
    "light_curve.write_summary_string(\"test.dat\", 0)"
   ]
  },
  {
   "cell_type": "code",
   "execution_count": null,
   "metadata": {},
   "outputs": [],
   "source": [
    "light_curve.plot_corner(smooth=True, truths=light_curve.mcmc_summary[\"mean\"].values, truth_color=\"#f55649\");\n",
    "plt.savefig(\"/Users/tgordon/Desktop/corner_plot.pdf\")"
   ]
  },
  {
   "cell_type": "code",
   "execution_count": null,
   "metadata": {},
   "outputs": [],
   "source": [
    "import numpy as np"
   ]
  },
  {
   "cell_type": "code",
   "execution_count": null,
   "metadata": {},
   "outputs": [],
   "source": [
    "ckpt = np.genfromtxt('../ckpts/.ckpt_3', dtype=str)\n",
    "ckpt[0:10, 1] = ['1']*10\n",
    "np.savetxt('../ckpts/.ckpt_3', ckpt, fmt=\"%s\")"
   ]
  },
  {
   "cell_type": "code",
   "execution_count": null,
   "metadata": {},
   "outputs": [],
   "source": [
    "fileids = np.array(range(len(ckpt)))[ckpt[:, 1] == '0']"
   ]
  },
  {
   "cell_type": "code",
   "execution_count": null,
   "metadata": {},
   "outputs": [],
   "source": [
    "ckpt = np.genfromtxt('../ckpts/.ckpt_3', dtype=str)\n",
    "files = ckpt[:, 0][ckpt[:, 1] == '0']\n",
    "fileids = np.array(range(len(ckpt)))[ckpt[:, 1] == '0']"
   ]
  },
  {
   "cell_type": "code",
   "execution_count": null,
   "metadata": {},
   "outputs": [],
   "source": [
    "for i, file in zip(fileids[0:10], files[0:10]):\n",
    "    print(i, file)\n",
    "    ckpt[i, 1] = '1'\n",
    "    np.savetxt('../ckpts/.ckpt_3', ckpt, fmt=\"%s\")"
   ]
  },
  {
   "cell_type": "code",
   "execution_count": null,
   "metadata": {},
   "outputs": [],
   "source": [
    "lags, power, _ = light_curve.autocor(max_peaks=1, min_period=0.5)\n",
    "peaks, troughs, heights = light_curve.get_peaks(lags, power)\n",
    "light_curve.acfpeaks = peaks\n",
    "maxper = light_curve.t[-1]-light_curve.t[0]\n",
    "searchpeaks = peaks[peaks < maxper]\n",
    "heights = np.array(heights)\n",
    "searchheights = heights[peaks < maxper]"
   ]
  },
  {
   "cell_type": "code",
   "execution_count": null,
   "metadata": {},
   "outputs": [],
   "source": [
    "peaks < maxper"
   ]
  },
  {
   "cell_type": "code",
   "execution_count": null,
   "metadata": {},
   "outputs": [],
   "source": [
    "heights"
   ]
  },
  {
   "cell_type": "code",
   "execution_count": null,
   "metadata": {},
   "outputs": [],
   "source": [
    "troughs"
   ]
  },
  {
   "cell_type": "code",
   "execution_count": null,
   "metadata": {},
   "outputs": [],
   "source": [
    "peaks"
   ]
  },
  {
   "cell_type": "code",
   "execution_count": null,
   "metadata": {},
   "outputs": [],
   "source": [
    "peaks[:-1]"
   ]
  },
  {
   "cell_type": "code",
   "execution_count": null,
   "metadata": {},
   "outputs": [],
   "source": [
    "arr = np.array([1, 2, 3, 4, 5])"
   ]
  },
  {
   "cell_type": "code",
   "execution_count": null,
   "metadata": {},
   "outputs": [],
   "source": [
    "np.append(arr, 7)"
   ]
  },
  {
   "cell_type": "code",
   "execution_count": null,
   "metadata": {},
   "outputs": [],
   "source": [
    "arr"
   ]
  },
  {
   "cell_type": "code",
   "execution_count": null,
   "metadata": {},
   "outputs": [],
   "source": [
    "np.insert(arr, 0, 7)"
   ]
  },
  {
   "cell_type": "code",
   "execution_count": null,
   "metadata": {},
   "outputs": [],
   "source": [
    "arr[arr == np.max(arr)]"
   ]
  },
  {
   "cell_type": "code",
   "execution_count": null,
   "metadata": {},
   "outputs": [],
   "source": [
    "arr[4:5]"
   ]
  },
  {
   "cell_type": "code",
   "execution_count": null,
   "metadata": {},
   "outputs": [],
   "source": [
    "string = \"test string\""
   ]
  },
  {
   "cell_type": "code",
   "execution_count": null,
   "metadata": {},
   "outputs": [],
   "source": [
    "string[2:4]"
   ]
  },
  {
   "cell_type": "code",
   "execution_count": null,
   "metadata": {},
   "outputs": [],
   "source": [
    "eid = \"211946007\"\n",
    "campaign = \"05\"\n",
    "url = \"https://archive.stsci.edu/hlsps/everest/v2/c\" + campaign + \"/\" + eid[:4] + \"00000/\" + eid[4:] + \"/hlsp_everest_k2_llc_\" + eid + \"-c\" + campaign + \"_kepler_v2.0_lc.fits\""
   ]
  },
  {
   "cell_type": "code",
   "execution_count": null,
   "metadata": {},
   "outputs": [],
   "source": [
    "light_curve = lc.LightCurve.everest(url)"
   ]
  },
  {
   "cell_type": "code",
   "execution_count": null,
   "metadata": {},
   "outputs": [],
   "source": [
    "plt.plot(light_curve.t, light_curve.raw_flux)"
   ]
  },
  {
   "cell_type": "code",
   "execution_count": null,
   "metadata": {},
   "outputs": [],
   "source": [
    "light_curve = lc.LightCurve.everest(\"https://archive.stsci.edu/hlsps/everest/v2/c05/211900000/46007/hlsp_everest_k2_llc_211946007-c05_kepler_v2.0_lc.fits\")"
   ]
  },
  {
   "cell_type": "code",
   "execution_count": null,
   "metadata": {},
   "outputs": [],
   "source": [
    "plt.plot(light_curve.t, light_curve.raw_flux)"
   ]
  },
  {
   "cell_type": "code",
   "execution_count": null,
   "metadata": {},
   "outputs": [],
   "source": []
  }
 ],
 "metadata": {
  "kernelspec": {
   "display_name": "Python 3",
   "language": "python",
   "name": "python3"
  },
  "language_info": {
   "codemirror_mode": {
    "name": "ipython",
    "version": 3
   },
   "file_extension": ".py",
   "mimetype": "text/x-python",
   "name": "python",
   "nbconvert_exporter": "python",
   "pygments_lexer": "ipython3",
   "version": "3.7.0"
  }
 },
 "nbformat": 4,
 "nbformat_minor": 2
}

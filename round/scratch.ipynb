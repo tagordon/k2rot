{
 "cells": [
  {
   "cell_type": "markdown",
   "metadata": {},
   "source": [
    "# Add +/- 1 standard deviation to the map_soln prediction plot"
   ]
  },
  {
   "cell_type": "code",
   "execution_count": 1,
   "metadata": {},
   "outputs": [],
   "source": [
    "from round import lc\n",
    "import matplotlib.pyplot as plt\n",
    "%matplotlib inline"
   ]
  },
  {
   "cell_type": "code",
   "execution_count": 43,
   "metadata": {},
   "outputs": [],
   "source": [
    "# https://archive.stsci.edu/hlsps/everest/v2/c102/201000000/48855/hlsp_everest_k2_llc_201048855-c102_kepler_v2.0_lc.fits medium-high frequency, looks kinda nice. \n",
    "# https://archive.stsci.edu/hlsps/everest/v2/c102/201200000/12221/hlsp_everest_k2_llc_201212221-c102_kepler_v2.0_lc.fits low frequency, looks good plotted with covariance prediction  \n",
    "# https://archive.stsci.edu/hlsps/everest/v2/c102/201100000/81885/hlsp_everest_k2_llc_201181885-c102_kepler_v2.0_lc.fits high frequency, looks nice \n",
    "# https://archive.stsci.edu/hlsps/everest/v2/c01/201100000/79758/hlsp_everest_k2_llc_201179758-c01_kepler_v2.0_lc.fits real coherent oscillations with beating \n",
    "light_curve = lc.LightCurve.everest(\"https://archive.stsci.edu/hlsps/everest/v2/c102/201200000/12221/hlsp_everest_k2_llc_201212221-c102_kepler_v2.0_lc.fits\");"
   ]
  },
  {
   "cell_type": "code",
   "execution_count": 44,
   "metadata": {},
   "outputs": [
    {
     "data": {
      "text/plain": [
       "[<matplotlib.lines.Line2D at 0x1135d06a0>]"
      ]
     },
     "execution_count": 44,
     "metadata": {},
     "output_type": "execute_result"
    },
    {
     "data": {
      "image/png": "[encoded data removed]",
      "text/plain": [
       "<Figure size 432x288 with 1 Axes>"
      ]
     },
     "metadata": {},
     "output_type": "display_data"
    }
   ],
   "source": [
    "plt.plot(light_curve.t, light_curve.raw_flux)"
   ]
  },
  {
   "cell_type": "code",
   "execution_count": null,
   "metadata": {},
   "outputs": [
    {
     "name": "stdout",
     "output_type": "stream",
     "text": [
      "optimizing logp for variables: ['mix_interval__', 'logdeltaQ', 'logQ0', 'logperiod_interval__', 'logamp', 'logs2']\n",
      "message: Optimization terminated successfully.\n",
      "logp: 15958.389729637816 -> 16174.971903404285\n"
     ]
    }
   ],
   "source": [
    "%time light_curve.compute(mcmc=True, mcmc_draws=500, tune=500, target_accept=0.9, prior_sig=3.0)"
   ]
  },
  {
   "cell_type": "code",
   "execution_count": null,
   "metadata": {},
   "outputs": [],
   "source": [
    "import matplotlib.gridspec as gridspec\n",
    "fig = plt.figure(figsize=(20, 10))\n",
    "\n",
    "really_outer = gridspec.GridSpec(1, 1, wspace=0.2, hspace=0.2)\n",
    "outer = gridspec.GridSpecFromSubplotSpec(1, 2, subplot_spec=really_outer[0], wspace=0.2, hspace=0.2)\n",
    "\n",
    "inner = gridspec.GridSpecFromSubplotSpec(2, 1, subplot_spec=outer[0], wspace=0.1, hspace=0.3)\n",
    "\n",
    "# raw light curve and polynomial fit \n",
    "ax = plt.Subplot(fig, inner[0])\n",
    "light_curve.plot_raw(ax, 'k.', label=\"everest flux\")\n",
    "light_curve.plot_trend(ax, linewidth=3, color=\"#f55649\", label=\"third order polynomial fit\")\n",
    "ax.set_title(\"Raw Everest Light Curve\", fontsize=20)\n",
    "ax.set_xlabel(\"Time (BJD - 2454833)\", fontsize=15)\n",
    "ax.set_ylabel(\"Flux\", fontsize=15)\n",
    "ax.legend()\n",
    "fig.add_subplot(ax)\n",
    "\n",
    "# autocorrelation\n",
    "ax = plt.Subplot(fig, inner[1])\n",
    "light_curve.plot_autocor(ax, \"k\", linewidth=3)\n",
    "ax.axvline(light_curve.map_soln[\"period\"], color=\"#f55649\", label=\"maximum likelihood period\", linewidth=3, linestyle=\"--\")\n",
    "ax.set_title(\"Autocorrelation\", fontsize=20)\n",
    "ax.set_xlabel(\"Lag (BJD)\", fontsize=15)\n",
    "ax.set_ylabel(\"ACF\", fontsize=15)\n",
    "ax.legend()\n",
    "fig.add_subplot(ax)\n",
    "\n",
    "inner = gridspec.GridSpecFromSubplotSpec(2, 1, subplot_spec=outer[1], wspace=0.1, hspace=0, height_ratios=[3, 1])\n",
    "\n",
    "# GP prediction\n",
    "ax = plt.Subplot(fig, inner[0])\n",
    "light_curve.plot(ax, 'k.', label=\"normalized everest flux\")\n",
    "light_curve.plot_map_soln(ax, t=np.linspace(light_curve.t[0], light_curve.t[-1], 1000), linewidth=3, color=\"#f55649\", label=\"GP prediction\")\n",
    "ax.set_title(\"Maximum-likelihood GP Prediction\", fontsize=20)\n",
    "ax.set_ylabel(\"Normalized Flux\", fontsize=15)\n",
    "fig.add_subplot(ax)\n",
    "\n",
    "# residuals\n",
    "ax = plt.Subplot(fig, inner[1])\n",
    "ax.plot(light_curve.t, light_curve.flux - light_curve.map_soln[\"mu\"], 'k.')\n",
    "ax.set_ylabel(\"Residuals\", fontsize=15)\n",
    "ax.set_xlabel(\"Time (BJD - 2454833)\", fontsize=15)\n",
    "fig.add_subplot(ax)\n",
    "\n",
    "fig.savefig(\"/Users/tgordon/Desktop/diagnostic_plot.png\", dpi=200)"
   ]
  },
  {
   "cell_type": "code",
   "execution_count": null,
   "metadata": {},
   "outputs": [],
   "source": [
    "light_curve.plot_corner(smooth=True, truths=light_curve.mcmc_summary[\"mean\"].values, truth_color=\"#f55649\");\n",
    "plt.savefig(\"/Users/tgordon/Desktop/corner_plot.pdf\")"
   ]
  },
  {
   "cell_type": "code",
   "execution_count": null,
   "metadata": {},
   "outputs": [],
   "source": [
    "light_curve.mcmc_summary"
   ]
  },
  {
   "cell_type": "code",
   "execution_count": null,
   "metadata": {},
   "outputs": [],
   "source": [
    "meanperiod, stdperiod = np.exp(light_curve.mcmc_summary[\"mean\"][\"logperiod\"]), light_curve.mcmc_summary[\"sd\"][\"logperiod\"]"
   ]
  },
  {
   "cell_type": "code",
   "execution_count": null,
   "metadata": {},
   "outputs": [],
   "source": [
    "fig = plt.figure(figsize=(12, 8))\n",
    "ax = fig.gca()\n",
    "light_curve.plot_autocor(ax, \"k\", linewidth=3)\n",
    "ax.axvline(light_curve.map_soln[\"period\"], color=\"#f55649\", label=\"maximum likelihood period\", linewidth=3, linestyle=\"--\")\n",
    "\n",
    "ax.axvspan(meanperiod-stdperiod, meanperiod+stdperiod, color=\"k\", alpha=0.5)\n",
    "\n",
    "ax.set_title(\"Autocorrelation\", fontsize=20)\n",
    "ax.set_xlabel(\"Lag (BJD)\", fontsize=15)\n",
    "ax.set_ylabel(\"ACF\", fontsize=15)\n",
    "ax.legend()"
   ]
  },
  {
   "cell_type": "code",
   "execution_count": null,
   "metadata": {},
   "outputs": [],
   "source": [
    "light_curve.mcmc_summary[\"n_eff\"]*14"
   ]
  }
 ],
 "metadata": {
  "kernelspec": {
   "display_name": "Python 3",
   "language": "python",
   "name": "python3"
  },
  "language_info": {
   "codemirror_mode": {
    "name": "ipython",
    "version": 3
   },
   "file_extension": ".py",
   "mimetype": "text/x-python",
   "name": "python",
   "nbconvert_exporter": "python",
   "pygments_lexer": "ipython3",
   "version": "3.7.0"
  }
 },
 "nbformat": 4,
 "nbformat_minor": 2
}
